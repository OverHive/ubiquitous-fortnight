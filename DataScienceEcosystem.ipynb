{
  "nbformat": 4,
  "nbformat_minor": 0,
  "metadata": {
    "colab": {
      "provenance": []
    },
    "kernelspec": {
      "name": "python3",
      "display_name": "Python 3"
    },
    "language_info": {
      "name": "python"
    }
  },
  "cells": [
    {
      "cell_type": "markdown",
      "source": [
        "<h1>Data Science Tools and Ecosystem</h1>"
      ],
      "metadata": {
        "id": "1T3Yp8ob76ag"
      }
    },
    {
      "cell_type": "markdown",
      "source": [
        "In this notebook, Data Science Tools and Ecosystem are summarized:\n",
        "\n",
        "Objectives:<uo>\n",
        "<li>List popular languages for Data Science</li>\n",
        "<li>List Data Science libraries</li>\n",
        "<li>List Data Science tools </li>\n",
        "<li>Perform some  calculations using python</li>\n",
        "</ou>"
      ],
      "metadata": {
        "id": "BpjVzQ9E8DxX"
      }
    },
    {
      "cell_type": "markdown",
      "source": [
        "Some of the popular languages that Data Scientists use are: <ul>\n",
        "<li>Python</li>\n",
        "<li>R</li>\n",
        "<li>SQL</li>\n",
        "<li>and java</li>\n",
        "</ul>"
      ],
      "metadata": {
        "id": "XKF5QVpF8Q6P"
      }
    },
    {
      "cell_type": "markdown",
      "source": [
        "Some of the commonly used libraries used by Data Scientists include:\n",
        "<ol>\n",
        "<li>Pandas</li>\n",
        "<li>NumPy</li>\n",
        "<li>Pytorch</li>\n",
        "<li>TensorFlow</li>\n",
        "<li>and Matplotlib</li>\n",
        "</ol>"
      ],
      "metadata": {
        "id": "7mtlFVYO8v8-"
      }
    },
    {
      "cell_type": "markdown",
      "source": [
        "| Data Science Tools|\n",
        "|-------------------|\n",
        "|SQL|\n",
        "|Python|\n",
        "|Docker|\n",
        "|Jupyter Notebook|\n",
        "\n",
        "\n",
        "\n"
      ],
      "metadata": {
        "id": "7O8PaKsB9oNX"
      }
    },
    {
      "cell_type": "markdown",
      "source": [
        "Below are a few examples of evaluating arithmetic expressions in Python"
      ],
      "metadata": {
        "id": "L66qZajF-sTA"
      }
    },
    {
      "cell_type": "code",
      "source": [
        "(3*4)+5\n",
        "#  This a simple arithmetic expression to mutiply then add integers"
      ],
      "metadata": {
        "colab": {
          "base_uri": "https://localhost:8080/"
        },
        "id": "5beFKduJ-nwo",
        "outputId": "c1ce17c1-e567-45d9-f346-f0de75acf113"
      },
      "execution_count": 3,
      "outputs": [
        {
          "output_type": "execute_result",
          "data": {
            "text/plain": [
              "17"
            ]
          },
          "metadata": {},
          "execution_count": 3
        }
      ]
    },
    {
      "cell_type": "code",
      "source": [
        "200/60\n",
        "# This will convert 200 minutes to hours by diving by 60"
      ],
      "metadata": {
        "colab": {
          "base_uri": "https://localhost:8080/"
        },
        "id": "oNLjLCTO_BeI",
        "outputId": "e4d81eee-bf1a-4f7d-ec44-a8b73601a000"
      },
      "execution_count": 4,
      "outputs": [
        {
          "output_type": "execute_result",
          "data": {
            "text/plain": [
              "3.3333333333333335"
            ]
          },
          "metadata": {},
          "execution_count": 4
        }
      ]
    },
    {
      "cell_type": "markdown",
      "source": [
        "<h2>Author </h2>\n",
        "Femi"
      ],
      "metadata": {
        "id": "1ngIXgqrCaav"
      }
    },
  ]
}
